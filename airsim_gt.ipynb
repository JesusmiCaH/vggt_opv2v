{
 "cells": [
  {
   "cell_type": "code",
   "execution_count": 1,
   "id": "623efb62",
   "metadata": {},
   "outputs": [],
   "source": [
    "%matplotlib inline\n",
    "# set cuda visible device = 2\n",
    "\n",
    "# from nuscenes.nuscenes import NuScenes\n",
    "import numpy as np\n",
    "import os\n",
    "os.environ[\"CUDA_VISIBLE_DEVICES\"]=\"2\"\n",
    "import shutil\n",
    "import yaml\n",
    "from PIL import Image\n",
    "from scipy.spatial.transform import Rotation as R\n"
   ]
  },
  {
   "cell_type": "code",
   "execution_count": null,
   "id": "bd3c42e1",
   "metadata": {},
   "outputs": [],
   "source": [
    "yaml_names = [\"000120.yaml\", \"000124.yaml\", \"000128.yaml\", \"000132.yaml\", \"000136.yaml\", \"000140.yaml\"]\n",
    "gt_pose = \"gt_pose.txt\"\n",
    "\n",
    "with open(gt_pose, 'w') as f:\n",
    "    for timestamp, yaml_file in enumerate(yaml_names):\n",
    "        yaml_path = os.path.join(\"data/opv2v/2021_08_18_09_02_56/440\", yaml_file)\n",
    "        with open(yaml_path, 'r') as yamlf:\n",
    "            data = yaml.safe_load(yamlf)\n",
    "            pose = data['camera0']['cords']\n",
    "        x, y, z, roll, pitch, yaw = pose\n",
    "        r = R.from_euler('xyz', [roll, pitch, yaw])\n",
    "        qx, qy, qz, qw = r.as_quat()\n",
    "        f.write(f\"{timestamp} {x} {y} {z} {qx} {qy} {qz} {qw}\")\n",
    "        f.write(\"\\n\")\n",
    "    for timestamp, yaml_file in enumerate(yaml_names):\n",
    "        yaml_path = os.path.join(\"data/opv2v/2021_08_18_09_02_56/440\", yaml_file)\n",
    "        with open(yaml_path, 'r') as yamlf:\n",
    "            data = yaml.safe_load(yamlf)\n",
    "            pose = data['camera3']['cords']\n",
    "        x, y, z, roll, pitch, yaw = pose\n",
    "        r = R.from_euler('xyz', [roll, pitch, yaw])\n",
    "        qx, qy, qz, qw = r.as_quat()\n",
    "        f.write(f\"{timestamp+6} {x} {y} {z} {qx} {qy} {qz} {qw}\")\n",
    "        f.write(\"\\n\") if timestamp != (len(yaml_names) - 1) else f.write(\"\")\n"
   ]
  }
 ],
 "metadata": {
  "kernelspec": {
   "display_name": "vggt",
   "language": "python",
   "name": "python3"
  },
  "language_info": {
   "codemirror_mode": {
    "name": "ipython",
    "version": 3
   },
   "file_extension": ".py",
   "mimetype": "text/x-python",
   "name": "python",
   "nbconvert_exporter": "python",
   "pygments_lexer": "ipython3",
   "version": "3.11.0"
  }
 },
 "nbformat": 4,
 "nbformat_minor": 5
}
